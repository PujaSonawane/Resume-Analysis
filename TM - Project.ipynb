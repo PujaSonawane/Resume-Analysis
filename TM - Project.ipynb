{
 "cells": [
  {
   "cell_type": "code",
   "execution_count": 1,
   "metadata": {},
   "outputs": [],
   "source": [
    "# Import summarize from gensim\n",
    "from gensim.summarization.summarizer import summarize\n",
    "from gensim.summarization import keywords"
   ]
  },
  {
   "cell_type": "code",
   "execution_count": 2,
   "metadata": {},
   "outputs": [],
   "source": [
    "# To convert MSword doc to txt for processing\n",
    "import docx2txt"
   ]
  },
  {
   "cell_type": "code",
   "execution_count": 3,
   "metadata": {},
   "outputs": [],
   "source": [
    "resume = docx2txt.process('/Users/akanshyameher/Desktop/Applicant1.docx')"
   ]
  },
  {
   "cell_type": "code",
   "execution_count": 4,
   "metadata": {},
   "outputs": [
    {
     "name": "stdout",
     "output_type": "stream",
     "text": [
      "With degrees in Computer Science and Data Analytics, equipping me with programming and analysis skills and experience to deal with large plus complex datasets.\n",
      "Implementing ML elements to provide regression related trends and analysis to potentially test devices on athletes to capture data and build relevant datasets.\n",
      "Data Analyst Consultant | UCF College of Engineering and Computer Science | Orlando, FL\t                  Aug 2020 – Present\n",
      "Relevant Coursework                  Database Systems, Data Preparation, Network Science, Statistical Analysis, Interactive Data Visualization, Machine Learning, Data Mining, Advanced Text Mining, Parallel and Cloud Computing, Data Structures and Algorithms, Business Intelligence and its Applications\n",
      "Introduction to Data Analytics for Business by University of Colorado Boulder | Coursera\n",
      "Built a binary classification model using Machine Learning to predict Diabetes in the United States using Python.\n"
     ]
    }
   ],
   "source": [
    "#Summarizing resume \n",
    "text_resume = str(resume)\n",
    "resume2 = summarize(text_resume, ratio=0.1)\n",
    "print(resume2)"
   ]
  },
  {
   "cell_type": "code",
   "execution_count": 5,
   "metadata": {},
   "outputs": [
    {
     "name": "stdout",
     "output_type": "stream",
     "text": [
      "Enter the job description: o\tCollecting the data from multiple heterogeneous data sources. o\tCheck the actual nature of the data by conducting preliminary data analysis. o\tConduct the thorough analysis of data to check for meaningful data. o\tPerform data mining with using different querying techniques of SQL. o\tCheck for different data configurations and patterns. o\tHelp the senior management for decision making by representing the data with using different representational techniques like Graphs charts. o\tModel the data with using different modeling techniques. o\tMake the projections of the data according to analyzing the trends of data. o\tCreate different kind of reports with using different Business Intelligence tools like OBIEE or Tableau. o\tPresent your findings with good presentation through meetings, seminars and presentations. o\tPreparing the report which will give information about all the data which will helps the senior management. o\tDiscuss with senior management about the business strategy with using the data analyzed by you.\n"
     ]
    }
   ],
   "source": [
    "#Prompt for the Job description.\n",
    "jd = input(\"Enter the job description: \")  "
   ]
  },
  {
   "cell_type": "code",
   "execution_count": 6,
   "metadata": {},
   "outputs": [],
   "source": [
    "#Count Vectorizer \n",
    "text_list = [resume2, jd]\n",
    "from sklearn.feature_extraction.text import CountVectorizer\n",
    "cv = CountVectorizer()\n",
    "count_matrix = cv.fit_transform(text_list)"
   ]
  },
  {
   "cell_type": "code",
   "execution_count": 7,
   "metadata": {},
   "outputs": [
    {
     "name": "stdout",
     "output_type": "stream",
     "text": [
      "[[1.         0.46436605]\n",
      " [0.46436605 1.        ]]\n"
     ]
    }
   ],
   "source": [
    "from sklearn.metrics.pairwise import cosine_similarity\n",
    "matchPercentage = cosine_similarity(count_matrix)\n",
    "print(matchPercentage)"
   ]
  },
  {
   "cell_type": "code",
   "execution_count": 8,
   "metadata": {},
   "outputs": [
    {
     "name": "stdout",
     "output_type": "stream",
     "text": [
      "Your resume matches about 46.44% of the job description.\n"
     ]
    }
   ],
   "source": [
    "# get the match percentage\n",
    "matchPercentage = cosine_similarity(count_matrix)[0][1] * 100\n",
    "matchPercentage = round(matchPercentage, 2) \n",
    "print(\"Your resume matches about \"+ str(matchPercentage)+ \"% of the job description.\")"
   ]
  },
  {
   "cell_type": "code",
   "execution_count": 9,
   "metadata": {},
   "outputs": [
    {
     "data": {
      "text/plain": [
       "'data\\nlike\\ndifferent querying techniques\\nbusiness\\nanalysis\\ngraphs\\ngood presentation\\npresent\\npresentations\\nmeetings seminars\\nsenior management\\ndecision making\\nactual nature\\nintelligence tools\\nmodel\\nmodeling\\nrepresentational\\nmultiple heterogeneous\\nconducting preliminary\\nconduct\\nthorough'"
      ]
     },
     "execution_count": 9,
     "metadata": {},
     "output_type": "execute_result"
    }
   ],
   "source": [
    "#important keywords of the job description\n",
    "a = keywords(jd, ratio=0.7)\n",
    "a"
   ]
  },
  {
   "cell_type": "code",
   "execution_count": 10,
   "metadata": {},
   "outputs": [
    {
     "data": {
      "text/plain": [
       "'data\\nrelevant\\ndatasets\\nmining\\nbusiness\\nclassification\\nscience\\nanalysis\\nboulder\\ncoursera\\nregression related\\npotentially test\\nucf\\npresent\\nplus complex\\nconsultant\\npredict\\nstates\\nunited\\nintroduction\\ndiabetes\\napplications\\nanalytics\\ncomputing\\nstatistical\\nnetwork\\ncoursework\\nanalyst\\ndatabase\\nmachine\\ninteractive\\npreparation\\nsystems\\nadvanced\\ntext\\nlearning\\nvisualization\\nintelligence\\nalgorithms'"
      ]
     },
     "execution_count": 10,
     "metadata": {},
     "output_type": "execute_result"
    }
   ],
   "source": [
    "b = keywords(resume2, ratio =0.7)\n",
    "b"
   ]
  },
  {
   "cell_type": "code",
   "execution_count": 11,
   "metadata": {},
   "outputs": [
    {
     "name": "stdout",
     "output_type": "stream",
     "text": [
      "['data', 'like', 'different', 'querying', 'techniques', 'business', 'analysis', 'graphs', 'good', 'presentation', 'present', 'presentations', 'meetings', 'seminars', 'senior', 'management', 'decision', 'making', 'actual', 'nature', 'intelligence', 'tools', 'model', 'modeling', 'representational', 'multiple', 'heterogeneous', 'conducting', 'preliminary', 'conduct', 'thorough']\n"
     ]
    }
   ],
   "source": [
    "c = []\n",
    "for i in a.split('\\n'):\n",
    "    for j in i.split(' '):\n",
    "        c.append(j)\n",
    "print(c)        "
   ]
  },
  {
   "cell_type": "code",
   "execution_count": 12,
   "metadata": {},
   "outputs": [
    {
     "name": "stdout",
     "output_type": "stream",
     "text": [
      "['data', 'relevant', 'datasets', 'mining', 'business', 'classification', 'science', 'analysis', 'boulder', 'coursera', 'regression', 'related', 'potentially', 'test', 'ucf', 'present', 'plus', 'complex', 'consultant', 'predict', 'states', 'united', 'introduction', 'diabetes', 'applications', 'analytics', 'computing', 'statistical', 'network', 'coursework', 'analyst', 'database', 'machine', 'interactive', 'preparation', 'systems', 'advanced', 'text', 'learning', 'visualization', 'intelligence', 'algorithms']\n"
     ]
    }
   ],
   "source": [
    "d = []\n",
    "for i in b.split('\\n'):\n",
    "    for j in i.split(' '):\n",
    "        d.append(j)\n",
    "print(d)"
   ]
  },
  {
   "cell_type": "code",
   "execution_count": 13,
   "metadata": {},
   "outputs": [
    {
     "name": "stdout",
     "output_type": "stream",
     "text": [
      "Present words are:  ['data', 'business', 'analysis', 'present', 'intelligence']\n",
      "Absent words are:  ['like', 'different', 'querying', 'techniques', 'graphs', 'good', 'presentation', 'presentations', 'meetings', 'seminars', 'senior', 'management', 'decision', 'making', 'actual', 'nature', 'tools', 'model', 'modeling', 'representational', 'multiple', 'heterogeneous', 'conducting', 'preliminary', 'conduct', 'thorough']\n"
     ]
    }
   ],
   "source": [
    "present = []\n",
    "absent = []\n",
    "for i in c:\n",
    "    if i in d:\n",
    "        present.append(i) \n",
    "    else:\n",
    "        absent.append(i)\n",
    "print(\"Present words are: \", present)\n",
    "print(\"Absent words are: \", absent)"
   ]
  },
  {
   "cell_type": "code",
   "execution_count": 14,
   "metadata": {},
   "outputs": [
    {
     "name": "stdout",
     "output_type": "stream",
     "text": [
      "\n",
      "  Jaccard  :   0.6964285714285714\n"
     ]
    }
   ],
   "source": [
    "def jaccard_distance(resume2,jd):\n",
    "    intersection=len(set.intersection(*[set(resume2),set(jd)]))\n",
    "    union=len(set.union(*[set(resume2),set(jd)]))\n",
    "    return intersection/float(union)\n",
    "b=jaccard_distance(resume2,jd) \n",
    "\n",
    "print('\\n  Jaccard  :  ', b)  "
   ]
  },
  {
   "cell_type": "code",
   "execution_count": 15,
   "metadata": {},
   "outputs": [],
   "source": [
    "resume = docx2txt.process('/Users/akanshyameher/Desktop/Applicant2.docx')"
   ]
  },
  {
   "cell_type": "code",
   "execution_count": 16,
   "metadata": {},
   "outputs": [
    {
     "name": "stdout",
     "output_type": "stream",
     "text": [
      "Coursework/Other: Statistical Analysis, Machine Learning, Data Visualization, Data Preparation, Data Mining, Advance Data Mining, Text Mining, Parallel and Cloud Computing, Artificial Intelligence, Recommendation Systems, Time Series Analysis and Forecasting, Data Structure, RDBMS\n",
      "UCF Ranking Prediction and Inference\tAug 2020 - Present\n",
      "Predicting the UCF world ranking and identifying factors influencing the ranking by building model using Decision trees, linear models, feature engineering and presented in Tableau\n",
      "Recognition of drunk person using Machine Learning (Team Members 4)\tJun 2017 - Jun 2018\n"
     ]
    }
   ],
   "source": [
    "#Summarizing resume \n",
    "text_resume = str(resume)\n",
    "resume2 = summarize(text_resume, ratio=0.1)\n",
    "print(resume2)"
   ]
  },
  {
   "cell_type": "code",
   "execution_count": 17,
   "metadata": {},
   "outputs": [
    {
     "name": "stdout",
     "output_type": "stream",
     "text": [
      "Enter the job description: o\tCollecting the data from multiple heterogeneous data sources. o\tCheck the actual nature of the data by conducting preliminary data analysis. o\tConduct the thorough analysis of data to check for meaningful data. o\tPerform data mining with using different querying techniques of SQL. o\tCheck for different data configurations and patterns. o\tHelp the senior management for decision making by representing the data with using different representational techniques like Graphs charts. o\tModel the data with using different modeling techniques. o\tMake the projections of the data according to analyzing the trends of data. o\tCreate different kind of reports with using different Business Intelligence tools like OBIEE or Tableau. o\tPresent your findings with good presentation through meetings, seminars and presentations. o\tPreparing the report which will give information about all the data which will helps the senior management. o\tDiscuss with senior management about the business strategy with using the data analyzed by you.\n"
     ]
    }
   ],
   "source": [
    "#Prompt for the Job description.\n",
    "jd = input(\"Enter the job description: \")  "
   ]
  },
  {
   "cell_type": "code",
   "execution_count": 18,
   "metadata": {},
   "outputs": [],
   "source": [
    "#Count Vectorizer \n",
    "text_list = [resume2, jd]\n",
    "from sklearn.feature_extraction.text import CountVectorizer\n",
    "cv = CountVectorizer()\n",
    "count_matrix = cv.fit_transform(text_list)"
   ]
  },
  {
   "cell_type": "code",
   "execution_count": 19,
   "metadata": {},
   "outputs": [
    {
     "name": "stdout",
     "output_type": "stream",
     "text": [
      "[[1.         0.43882879]\n",
      " [0.43882879 1.        ]]\n"
     ]
    }
   ],
   "source": [
    "from sklearn.metrics.pairwise import cosine_similarity\n",
    "matchPercentage = cosine_similarity(count_matrix)\n",
    "print(matchPercentage)"
   ]
  },
  {
   "cell_type": "code",
   "execution_count": 20,
   "metadata": {},
   "outputs": [
    {
     "name": "stdout",
     "output_type": "stream",
     "text": [
      "Your resume matches about 43.88% of the job description.\n"
     ]
    }
   ],
   "source": [
    "# get the match percentage\n",
    "matchPercentage = cosine_similarity(count_matrix)[0][1] * 100\n",
    "matchPercentage = round(matchPercentage, 2) \n",
    "print(\"Your resume matches about \"+ str(matchPercentage)+ \"% of the job description.\")"
   ]
  },
  {
   "cell_type": "code",
   "execution_count": 21,
   "metadata": {},
   "outputs": [
    {
     "name": "stdout",
     "output_type": "stream",
     "text": [
      "data\n",
      "mining\n",
      "model\n",
      "factors\n",
      "analysis\n",
      "models feature\n",
      "learning\n",
      "ranking\n",
      "ucf\n",
      "computing\n",
      "trees linear\n",
      "aug\n",
      "artificial\n",
      "intelligence\n",
      "present\n",
      "presented\n",
      "recommendation\n",
      "systems\n",
      "drunk person\n",
      "tableau\n",
      "recognition\n",
      "time\n"
     ]
    }
   ],
   "source": [
    "print(keywords(resume2, ratio =0.5))"
   ]
  },
  {
   "cell_type": "code",
   "execution_count": 22,
   "metadata": {},
   "outputs": [
    {
     "name": "stdout",
     "output_type": "stream",
     "text": [
      "\n",
      "  Jaccard  :   0.5806451612903226\n"
     ]
    }
   ],
   "source": [
    "def jaccard_distance(resume2,jd):\n",
    "    intersection=len(set.intersection(*[set(resume2),set(jd)]))\n",
    "    union=len(set.union(*[set(resume2),set(jd)]))\n",
    "    return intersection/float(union)\n",
    "b=jaccard_distance(resume2,jd) \n",
    "\n",
    "print('\\n  Jaccard  :  ', b)  "
   ]
  },
  {
   "cell_type": "code",
   "execution_count": 23,
   "metadata": {},
   "outputs": [],
   "source": [
    "resume = docx2txt.process('/Users/akanshyameher/Desktop/Applicant3.docx')"
   ]
  },
  {
   "cell_type": "code",
   "execution_count": 24,
   "metadata": {},
   "outputs": [
    {
     "name": "stdout",
     "output_type": "stream",
     "text": [
      "Highly analytical individual with strong apt for learning and collaborative skills, also coming with strong interpersonal, leadership, and programming abilities, looking to obtain a position in Data Science field, to utilize my academic knowledge and prior internships experience.\n",
      "Visualized the effect of sentiment through wordclouds, Bing comparison cloud and bar charts and concluded ‘Deathly Hallows’ & ‘Half Blood Prince’ had  highest negative and positive scores respectively\n",
      "Analyzed and cleaned data to drive process improvements within the organization using Excel\n",
      "Utilized Tableau to produce appealing data visualizations related to web- analytics, call-center technology, sales and marketing to help them make business decisions\n",
      "Programming: Python (NumPy, Pandas, Scikit-Learn, Matplotlib, Seaborn, Folium), SQL, R, PySpark, SAS, Hive, Java, C, C++ Analytics and Visualization Tools: Tableau, GGplot, Advance MS Excel, IBM Cloud Studio, Apache Zeppelin\n"
     ]
    }
   ],
   "source": [
    "#Summarizing resume \n",
    "text_resume = str(resume)\n",
    "resume2 = summarize(text_resume, ratio=0.1)\n",
    "print(resume2)"
   ]
  },
  {
   "cell_type": "code",
   "execution_count": 25,
   "metadata": {},
   "outputs": [
    {
     "name": "stdout",
     "output_type": "stream",
     "text": [
      "Enter the job description: o\tCollecting the data from multiple heterogeneous data sources. o\tCheck the actual nature of the data by conducting preliminary data analysis. o\tConduct the thorough analysis of data to check for meaningful data. o\tPerform data mining with using different querying techniques of SQL. o\tCheck for different data configurations and patterns. o\tHelp the senior management for decision making by representing the data with using different representational techniques like Graphs charts. o\tModel the data with using different modeling techniques. o\tMake the projections of the data according to analyzing the trends of data. o\tCreate different kind of reports with using different Business Intelligence tools like OBIEE or Tableau. o\tPresent your findings with good presentation through meetings, seminars and presentations. o\tPreparing the report which will give information about all the data which will helps the senior management. o\tDiscuss with senior management about the business strategy with using the data analyzed by you.\n"
     ]
    }
   ],
   "source": [
    "#Prompt for the Job description.\n",
    "jd = input(\"Enter the job description: \")  "
   ]
  },
  {
   "cell_type": "code",
   "execution_count": 26,
   "metadata": {},
   "outputs": [],
   "source": [
    "#Count Vectorizer \n",
    "text_list = [resume2, jd]\n",
    "from sklearn.feature_extraction.text import CountVectorizer\n",
    "cv = CountVectorizer()\n",
    "count_matrix = cv.fit_transform(text_list)"
   ]
  },
  {
   "cell_type": "code",
   "execution_count": 27,
   "metadata": {},
   "outputs": [
    {
     "name": "stdout",
     "output_type": "stream",
     "text": [
      "[[1.         0.33287321]\n",
      " [0.33287321 1.        ]]\n"
     ]
    }
   ],
   "source": [
    "from sklearn.metrics.pairwise import cosine_similarity\n",
    "matchPercentage = cosine_similarity(count_matrix)\n",
    "print(matchPercentage)"
   ]
  },
  {
   "cell_type": "code",
   "execution_count": 28,
   "metadata": {},
   "outputs": [
    {
     "name": "stdout",
     "output_type": "stream",
     "text": [
      "Your resume matches about 33.29% of the job description.\n"
     ]
    }
   ],
   "source": [
    "# get the match percentage\n",
    "matchPercentage = cosine_similarity(count_matrix)[0][1] * 100\n",
    "matchPercentage = round(matchPercentage, 2) \n",
    "print(\"Your resume matches about \"+ str(matchPercentage)+ \"% of the job description.\")"
   ]
  },
  {
   "cell_type": "code",
   "execution_count": 29,
   "metadata": {},
   "outputs": [
    {
     "name": "stdout",
     "output_type": "stream",
     "text": [
      "data\n",
      "analytical\n",
      "analytics\n",
      "visualized\n",
      "visualizations\n",
      "visualization\n",
      "programming\n",
      "technology\n",
      "process\n",
      "tableau\n",
      "sas\n",
      "hive\n",
      "scores respectively\n",
      "interpersonal\n",
      "strong\n",
      "bing comparison cloud\n",
      "deathly\n",
      "blood\n",
      "folium\n",
      "hallows\n",
      "half\n",
      "apache\n",
      "internships\n",
      "abilities\n",
      "decisions\n",
      "seaborn\n",
      "appealing\n",
      "science\n",
      "ggplot\n",
      "matplotlib\n",
      "studio\n",
      "learning\n",
      "experience\n",
      "scikit\n",
      "pandas\n",
      "python\n",
      "numpy\n"
     ]
    }
   ],
   "source": [
    "print(keywords(resume2, ratio =0.5))"
   ]
  },
  {
   "cell_type": "code",
   "execution_count": 30,
   "metadata": {},
   "outputs": [
    {
     "name": "stdout",
     "output_type": "stream",
     "text": [
      "\n",
      "  Jaccard  :   0.639344262295082\n"
     ]
    }
   ],
   "source": [
    "def jaccard_distance(resume2,jd):\n",
    "    intersection=len(set.intersection(*[set(resume2),set(jd)]))\n",
    "    union=len(set.union(*[set(resume2),set(jd)]))\n",
    "    return intersection/float(union)\n",
    "b=jaccard_distance(resume2,jd) \n",
    "\n",
    "print('\\n  Jaccard  :  ', b)  "
   ]
  },
  {
   "cell_type": "code",
   "execution_count": 31,
   "metadata": {},
   "outputs": [],
   "source": [
    "resume = docx2txt.process('/Users/akanshyameher/Desktop/Applicant4.docx')"
   ]
  },
  {
   "cell_type": "code",
   "execution_count": 32,
   "metadata": {},
   "outputs": [
    {
     "name": "stdout",
     "output_type": "stream",
     "text": [
      "Implement machine learning elements to provide regression/progression related trends and analysis.\n",
      "Data Analyst Consultant (Capstone Project) | University of Central Florida |Orlando, FL\tAug 2020 – Present\n",
      "Analyzing ten years of US News and World Report ranking data, and predicting the future ranking of the University of Central Florida for the UCF engineering department.\n",
      "Relevant Coursework\tNatural Language Processing, Machine Learning, Data Mining, Data Visualization, Statistics, Network Sciences, Data Preparation, Data Mining II, Text mining, Parallel and Cloud Computation, Artificial Intelligence, Programming in Java, Big Data, Database Management System, Linear Algebra, Data Structure, Algorithm design and analysis, Object oriented programming in C++, Introduction to C programming,, Engineering Mathematics, Unified Modeling Language, Probability and Statistics, Operating System, Theory of Computation, Computer Architecture.\n",
      "Developed a supervised machine learning model using the Light FM algorithm to build a recommendation system for customers based on\n",
      "Implemented Exploratory Data Analysis with bar, line, tree, box, multiline, scatter, density and histogram plots along with decision tree, support vector machine, naïve bayes and random forest models.\n"
     ]
    }
   ],
   "source": [
    "#Summarizing resume \n",
    "text_resume = str(resume)\n",
    "resume2 = summarize(text_resume, ratio=0.1)\n",
    "print(resume2)"
   ]
  },
  {
   "cell_type": "code",
   "execution_count": 33,
   "metadata": {},
   "outputs": [
    {
     "name": "stdout",
     "output_type": "stream",
     "text": [
      "Enter the job description: o\tCollecting the data from multiple heterogeneous data sources. o\tCheck the actual nature of the data by conducting preliminary data analysis. o\tConduct the thorough analysis of data to check for meaningful data. o\tPerform data mining with using different querying techniques of SQL. o\tCheck for different data configurations and patterns. o\tHelp the senior management for decision making by representing the data with using different representational techniques like Graphs charts. o\tModel the data with using different modeling techniques. o\tMake the projections of the data according to analyzing the trends of data. o\tCreate different kind of reports with using different Business Intelligence tools like OBIEE or Tableau. o\tPresent your findings with good presentation through meetings, seminars and presentations. o\tPreparing the report which will give information about all the data which will helps the senior management. o\tDiscuss with senior management about the business strategy with using the data analyzed by you.\n"
     ]
    }
   ],
   "source": [
    "#Prompts for the Job description.\n",
    "jd = input(\"Enter the job description: \")  "
   ]
  },
  {
   "cell_type": "code",
   "execution_count": 34,
   "metadata": {},
   "outputs": [],
   "source": [
    "#Count Vectorizer \n",
    "text_list = [resume2, jd]\n",
    "from sklearn.feature_extraction.text import CountVectorizer\n",
    "cv = CountVectorizer()\n",
    "count_matrix = cv.fit_transform(text_list)"
   ]
  },
  {
   "cell_type": "code",
   "execution_count": 35,
   "metadata": {},
   "outputs": [
    {
     "name": "stdout",
     "output_type": "stream",
     "text": [
      "[[1.        0.5316244]\n",
      " [0.5316244 1.       ]]\n"
     ]
    }
   ],
   "source": [
    "from sklearn.metrics.pairwise import cosine_similarity\n",
    "matchPercentage = cosine_similarity(count_matrix)\n",
    "print(matchPercentage)"
   ]
  },
  {
   "cell_type": "code",
   "execution_count": 36,
   "metadata": {},
   "outputs": [
    {
     "name": "stdout",
     "output_type": "stream",
     "text": [
      "Your resume matches about 53.16% of the job description.\n"
     ]
    }
   ],
   "source": [
    "# get the match percentage\n",
    "matchPercentage = cosine_similarity(count_matrix)[0][1] * 100\n",
    "matchPercentage = round(matchPercentage, 2) \n",
    "print(\"Your resume matches about \"+ str(matchPercentage)+ \"% of the job description.\")"
   ]
  },
  {
   "cell_type": "code",
   "execution_count": 37,
   "metadata": {},
   "outputs": [
    {
     "name": "stdout",
     "output_type": "stream",
     "text": [
      "data\n",
      "machine learning\n",
      "tree\n",
      "engineering\n",
      "language\n",
      "modeling\n",
      "model\n",
      "models\n",
      "present\n",
      "florida\n",
      "mining\n",
      "statistics\n",
      "programming\n",
      "report ranking\n",
      "regression related\n",
      "scatter\n",
      "project\n",
      "computation\n",
      "line\n",
      "algorithm\n",
      "multiline\n",
      "capstone\n",
      "artificial\n",
      "box\n",
      "customers based\n",
      "architecture\n",
      "developed\n",
      "histogram plots\n",
      "consultant\n",
      "forest\n",
      "naive\n",
      "algebra\n",
      "database\n",
      "big\n",
      "intelligence\n",
      "structure\n",
      "relevant\n",
      "support\n"
     ]
    }
   ],
   "source": [
    "print(keywords(resume2, ratio =0.5))"
   ]
  },
  {
   "cell_type": "code",
   "execution_count": 38,
   "metadata": {},
   "outputs": [
    {
     "name": "stdout",
     "output_type": "stream",
     "text": [
      "\n",
      "  Jaccard  :   0.6290322580645161\n"
     ]
    }
   ],
   "source": [
    "def jaccard_distance(resume2,jd):\n",
    "    intersection=len(set.intersection(*[set(resume2),set(jd)]))\n",
    "    union=len(set.union(*[set(resume2),set(jd)]))\n",
    "    return intersection/float(union)\n",
    "b=jaccard_distance(resume2,jd) \n",
    "\n",
    "print('\\n  Jaccard  :  ', b)  "
   ]
  },
  {
   "cell_type": "code",
   "execution_count": 39,
   "metadata": {},
   "outputs": [],
   "source": [
    "resume = docx2txt.process('/Users/akanshyameher/Desktop/Applicant5.docx')"
   ]
  },
  {
   "cell_type": "code",
   "execution_count": 40,
   "metadata": {},
   "outputs": [
    {
     "name": "stdout",
     "output_type": "stream",
     "text": [
      "A Strong and passionate advocate of Data Science with 3+ years of hands-on experience leveraging machine learning models and data mining to uncover compelling insights and drive business growth.\n",
      "Associate Data Analyst\n",
      "Team member of AWS benchmarked Machine Learning project.\n",
      "Led 5-person team and developed an e-commerce ETL application in 3 days using Python and Oracle.\n",
      "Worked with the Data Science team in building an ML platform for an American Agriculture equipment manufacturing giant to increase the sales by recommending products after customer segmentation.\n",
      "Utilized historical data on loans to predict the probability of a loan default by applying statistical methodologies to identify the association between attributes such as balance, income, occupation, etc.\n"
     ]
    }
   ],
   "source": [
    "#Summarizing resume \n",
    "text_resume = str(resume)\n",
    "resume2 = summarize(text_resume, ratio=0.1)\n",
    "print(resume2)"
   ]
  },
  {
   "cell_type": "code",
   "execution_count": 41,
   "metadata": {},
   "outputs": [
    {
     "name": "stdout",
     "output_type": "stream",
     "text": [
      "Enter the job description: o\tCollecting the data from multiple heterogeneous data sources. o\tCheck the actual nature of the data by conducting preliminary data analysis. o\tConduct the thorough analysis of data to check for meaningful data. o\tPerform data mining with using different querying techniques of SQL. o\tCheck for different data configurations and patterns. o\tHelp the senior management for decision making by representing the data with using different representational techniques like Graphs charts. o\tModel the data with using different modeling techniques. o\tMake the projections of the data according to analyzing the trends of data. o\tCreate different kind of reports with using different Business Intelligence tools like OBIEE or Tableau. o\tPresent your findings with good presentation through meetings, seminars and presentations. o\tPreparing the report which will give information about all the data which will helps the senior management. o\tDiscuss with senior management about the business strategy with using the data analyzed by you.\n"
     ]
    }
   ],
   "source": [
    "#Prompt for the Job description.\n",
    "\n",
    "jd = input(\"Enter the job description: \")  "
   ]
  },
  {
   "cell_type": "code",
   "execution_count": 42,
   "metadata": {},
   "outputs": [],
   "source": [
    "#Count Vectorizer \n",
    "text_list = [resume2, jd]\n",
    "from sklearn.feature_extraction.text import CountVectorizer\n",
    "cv = CountVectorizer()\n",
    "count_matrix = cv.fit_transform(text_list)"
   ]
  },
  {
   "cell_type": "code",
   "execution_count": 43,
   "metadata": {},
   "outputs": [
    {
     "name": "stdout",
     "output_type": "stream",
     "text": [
      "[[1.         0.52250218]\n",
      " [0.52250218 1.        ]]\n"
     ]
    }
   ],
   "source": [
    "from sklearn.metrics.pairwise import cosine_similarity\n",
    "matchPercentage = cosine_similarity(count_matrix)\n",
    "print(matchPercentage)"
   ]
  },
  {
   "cell_type": "code",
   "execution_count": 44,
   "metadata": {},
   "outputs": [
    {
     "name": "stdout",
     "output_type": "stream",
     "text": [
      "Your resume matches about 52.25% of the job description.\n"
     ]
    }
   ],
   "source": [
    "# get the match percentage\n",
    "matchPercentage = cosine_similarity(count_matrix)[0][1] * 100\n",
    "matchPercentage = round(matchPercentage, 2) \n",
    "print(\"Your resume matches about \"+ str(matchPercentage)+ \"% of the job description.\")"
   ]
  },
  {
   "cell_type": "code",
   "execution_count": 45,
   "metadata": {},
   "outputs": [
    {
     "name": "stdout",
     "output_type": "stream",
     "text": [
      "data\n",
      "team\n",
      "compelling\n",
      "income\n",
      "statistical\n",
      "etl\n",
      "leveraging machine learning\n",
      "agriculture equipment manufacturing\n",
      "business\n",
      "segmentation\n",
      "benchmarked\n",
      "growth\n",
      "utilized\n",
      "recommending products\n",
      "loans\n",
      "passionate advocate\n",
      "loan default\n",
      "oracle\n"
     ]
    }
   ],
   "source": [
    "print(keywords(resume2, ratio =0.5))"
   ]
  },
  {
   "cell_type": "code",
   "execution_count": 46,
   "metadata": {},
   "outputs": [
    {
     "name": "stdout",
     "output_type": "stream",
     "text": [
      "\n",
      "  Jaccard  :   0.6923076923076923\n"
     ]
    }
   ],
   "source": [
    "def jaccard_distance(resume2,jd):\n",
    "    intersection=len(set.intersection(*[set(resume2),set(jd)]))\n",
    "    union=len(set.union(*[set(resume2),set(jd)]))\n",
    "    return intersection/float(union)\n",
    "b=jaccard_distance(resume2,jd) \n",
    "\n",
    "print('\\n  Jaccard  :  ', b)  "
   ]
  },
  {
   "cell_type": "code",
   "execution_count": 47,
   "metadata": {},
   "outputs": [],
   "source": [
    "resume = docx2txt.process('/Users/akanshyameher/Desktop/Applicant6.docx')"
   ]
  },
  {
   "cell_type": "code",
   "execution_count": 48,
   "metadata": {},
   "outputs": [
    {
     "name": "stdout",
     "output_type": "stream",
     "text": [
      "Python/AWS Developer\tMay 2018 – July 2019\n",
      "Responsible for developing, maintaining and deploying web applications using Django,Python,MySQL\n",
      "Wipro Limited, T-Mobile Project\tBangalore, India\n"
     ]
    }
   ],
   "source": [
    "#Summarizing resume \n",
    "text_resume = str(resume)\n",
    "resume2 = summarize(text_resume, ratio=0.1)\n",
    "print(resume2)"
   ]
  },
  {
   "cell_type": "code",
   "execution_count": 49,
   "metadata": {},
   "outputs": [
    {
     "name": "stdout",
     "output_type": "stream",
     "text": [
      "Enter the job description: o\tCollecting the data from multiple heterogeneous data sources. o\tCheck the actual nature of the data by conducting preliminary data analysis. o\tConduct the thorough analysis of data to check for meaningful data. o\tPerform data mining with using different querying techniques of SQL. o\tCheck for different data configurations and patterns. o\tHelp the senior management for decision making by representing the data with using different representational techniques like Graphs charts. o\tModel the data with using different modeling techniques. o\tMake the projections of the data according to analyzing the trends of data. o\tCreate different kind of reports with using different Business Intelligence tools like OBIEE or Tableau. o\tPresent your findings with good presentation through meetings, seminars and presentations. o\tPreparing the report which will give information about all the data which will helps the senior management. o\tDiscuss with senior management about the business strategy with using the data analyzed by you.\n"
     ]
    }
   ],
   "source": [
    "#Prompt for the Job description.\n",
    "jd = input(\"Enter the job description: \")  "
   ]
  },
  {
   "cell_type": "code",
   "execution_count": 50,
   "metadata": {},
   "outputs": [],
   "source": [
    "#Count Vectorizer \n",
    "text_list = [resume2, jd]\n",
    "from sklearn.feature_extraction.text import CountVectorizer\n",
    "cv = CountVectorizer()\n",
    "count_matrix = cv.fit_transform(text_list)"
   ]
  },
  {
   "cell_type": "code",
   "execution_count": 51,
   "metadata": {},
   "outputs": [
    {
     "name": "stdout",
     "output_type": "stream",
     "text": [
      "[[1.         0.07212372]\n",
      " [0.07212372 1.        ]]\n"
     ]
    }
   ],
   "source": [
    "from sklearn.metrics.pairwise import cosine_similarity\n",
    "matchPercentage = cosine_similarity(count_matrix)\n",
    "print(matchPercentage)"
   ]
  },
  {
   "cell_type": "code",
   "execution_count": 52,
   "metadata": {},
   "outputs": [
    {
     "name": "stdout",
     "output_type": "stream",
     "text": [
      "Your resume matches about 7.21% of the job description.\n"
     ]
    }
   ],
   "source": [
    "# get the match percentage\n",
    "matchPercentage = cosine_similarity(count_matrix)[0][1] * 100\n",
    "matchPercentage = round(matchPercentage, 2) \n",
    "print(\"Your resume matches about \"+ str(matchPercentage)+ \"% of the job description.\")"
   ]
  },
  {
   "cell_type": "code",
   "execution_count": 53,
   "metadata": {},
   "outputs": [
    {
     "name": "stdout",
     "output_type": "stream",
     "text": [
      "python\n",
      "web\n",
      "bangalore\n",
      "project\n",
      "wipro\n",
      "developer\n",
      "developing\n"
     ]
    }
   ],
   "source": [
    "print(keywords(resume2, ratio =0.5))"
   ]
  },
  {
   "cell_type": "code",
   "execution_count": 54,
   "metadata": {},
   "outputs": [
    {
     "name": "stdout",
     "output_type": "stream",
     "text": [
      "\n",
      "  Jaccard  :   0.6071428571428571\n"
     ]
    }
   ],
   "source": [
    "def jaccard_distance(resume2,jd):\n",
    "    intersection=len(set.intersection(*[set(resume2),set(jd)]))\n",
    "    union=len(set.union(*[set(resume2),set(jd)]))\n",
    "    return intersection/float(union)\n",
    "b=jaccard_distance(resume2,jd) \n",
    "\n",
    "print('\\n  Jaccard  :  ', b)  "
   ]
  },
  {
   "cell_type": "code",
   "execution_count": 55,
   "metadata": {},
   "outputs": [],
   "source": [
    "resume = docx2txt.process('/Users/akanshyameher/Desktop/Applicant7.docx')"
   ]
  },
  {
   "cell_type": "code",
   "execution_count": 56,
   "metadata": {},
   "outputs": [
    {
     "name": "stdout",
     "output_type": "stream",
     "text": [
      "Motivated, diligent and result oriented Programmer Analyst with 2.6 years of experience in Mobile Application development and ASP.Net. Proven ability to thrive in challenging, fast-paced environments through multi-tasking and organizational skills.\n",
      "Sinhgad College of Engineering - Pune, Maharashtra, India Master of Engineering\n",
      "http://linkedin.com/in/shrusharma\n"
     ]
    }
   ],
   "source": [
    "#Summarizing resume \n",
    "text_resume = str(resume)\n",
    "resume2 = summarize(text_resume, ratio=0.1)\n",
    "print(resume2)"
   ]
  },
  {
   "cell_type": "code",
   "execution_count": 57,
   "metadata": {},
   "outputs": [
    {
     "name": "stdout",
     "output_type": "stream",
     "text": [
      "Enter the job description: o\tCollecting the data from multiple heterogeneous data sources. o\tCheck the actual nature of the data by conducting preliminary data analysis. o\tConduct the thorough analysis of data to check for meaningful data. o\tPerform data mining with using different querying techniques of SQL. o\tCheck for different data configurations and patterns. o\tHelp the senior management for decision making by representing the data with using different representational techniques like Graphs charts. o\tModel the data with using different modeling techniques. o\tMake the projections of the data according to analyzing the trends of data. o\tCreate different kind of reports with using different Business Intelligence tools like OBIEE or Tableau. o\tPresent your findings with good presentation through meetings, seminars and presentations. o\tPreparing the report which will give information about all the data which will helps the senior management. o\tDiscuss with senior management about the business strategy with using the data analyzed by you.\n"
     ]
    }
   ],
   "source": [
    "#Prompt for the Job description.\n",
    "jd = input(\"Enter the job description: \")  "
   ]
  },
  {
   "cell_type": "code",
   "execution_count": 58,
   "metadata": {},
   "outputs": [],
   "source": [
    "#Count Vectorizer \n",
    "text_list = [resume2, jd]\n",
    "from sklearn.feature_extraction.text import CountVectorizer\n",
    "cv = CountVectorizer()\n",
    "count_matrix = cv.fit_transform(text_list)"
   ]
  },
  {
   "cell_type": "code",
   "execution_count": 59,
   "metadata": {},
   "outputs": [
    {
     "name": "stdout",
     "output_type": "stream",
     "text": [
      "[[1.         0.15451992]\n",
      " [0.15451992 1.        ]]\n"
     ]
    }
   ],
   "source": [
    "from sklearn.metrics.pairwise import cosine_similarity\n",
    "matchPercentage = cosine_similarity(count_matrix)\n",
    "print(matchPercentage)"
   ]
  },
  {
   "cell_type": "code",
   "execution_count": 60,
   "metadata": {},
   "outputs": [
    {
     "name": "stdout",
     "output_type": "stream",
     "text": [
      "Your resume matches about 15.45% of the job description.\n"
     ]
    }
   ],
   "source": [
    "# get the match percentage\n",
    "matchPercentage = cosine_similarity(count_matrix)[0][1] * 100\n",
    "matchPercentage = round(matchPercentage, 2) \n",
    "print(\"Your resume matches about \"+ str(matchPercentage)+ \"% of the job description.\")"
   ]
  },
  {
   "cell_type": "code",
   "execution_count": 61,
   "metadata": {},
   "outputs": [
    {
     "name": "stdout",
     "output_type": "stream",
     "text": [
      "application\n",
      "oriented\n",
      "programmer\n",
      "proven\n",
      "fast\n",
      "sinhgad\n",
      "skills\n",
      "india\n",
      "maharashtra\n",
      "http\n",
      "pune\n",
      "engineering\n"
     ]
    }
   ],
   "source": [
    "print(keywords(resume2, ratio =0.5))"
   ]
  },
  {
   "cell_type": "code",
   "execution_count": 62,
   "metadata": {},
   "outputs": [
    {
     "name": "stdout",
     "output_type": "stream",
     "text": [
      "\n",
      "  Jaccard  :   0.6153846153846154\n"
     ]
    }
   ],
   "source": [
    "def jaccard_distance(resume2,jd):\n",
    "    intersection=len(set.intersection(*[set(resume2),set(jd)]))\n",
    "    union=len(set.union(*[set(resume2),set(jd)]))\n",
    "    return intersection/float(union)\n",
    "b=jaccard_distance(resume2,jd) \n",
    "\n",
    "print('\\n  Jaccard  :  ', b)  "
   ]
  },
  {
   "cell_type": "code",
   "execution_count": 63,
   "metadata": {},
   "outputs": [],
   "source": [
    "resume = docx2txt.process('/Users/akanshyameher/Desktop/Applicant8.docx')"
   ]
  },
  {
   "cell_type": "code",
   "execution_count": 64,
   "metadata": {},
   "outputs": [
    {
     "name": "stdout",
     "output_type": "stream",
     "text": [
      "Developed Front End (UI) for Cobertura - Impact based testing tool using AngularJS, HTML and CSS with data integration between MySQL database and application using Jersey REST web service.\n",
      "Project: Real Time Object Tracking and Prediction, Noida, Jan 14 – May 14\n",
      "Developed a real-time object tracking software using MATLAB followed by a prediction algorithm.\n",
      "Utilized skills learned during the Data Science Specialization course.\n"
     ]
    }
   ],
   "source": [
    "#Summarizing resume \n",
    "text_resume = str(resume)\n",
    "resume2 = summarize(text_resume, ratio=0.1)\n",
    "print(resume2)"
   ]
  },
  {
   "cell_type": "code",
   "execution_count": 65,
   "metadata": {},
   "outputs": [
    {
     "name": "stdout",
     "output_type": "stream",
     "text": [
      "Enter the job description: o\tCollecting the data from multiple heterogeneous data sources. o\tCheck the actual nature of the data by conducting preliminary data analysis. o\tConduct the thorough analysis of data to check for meaningful data. o\tPerform data mining with using different querying techniques of SQL. o\tCheck for different data configurations and patterns. o\tHelp the senior management for decision making by representing the data with using different representational techniques like Graphs charts. o\tModel the data with using different modeling techniques. o\tMake the projections of the data according to analyzing the trends of data. o\tCreate different kind of reports with using different Business Intelligence tools like OBIEE or Tableau. o\tPresent your findings with good presentation through meetings, seminars and presentations. o\tPreparing the report which will give information about all the data which will helps the senior management. o\tDiscuss with senior management about the business strategy with using the data analyzed by you.\n"
     ]
    }
   ],
   "source": [
    "#Prompt for the Job description.\n",
    "jd = input(\"Enter the job description: \")  "
   ]
  },
  {
   "cell_type": "code",
   "execution_count": 66,
   "metadata": {},
   "outputs": [],
   "source": [
    "#Count Vectorizer \n",
    "text_list = [resume2, jd]\n",
    "from sklearn.feature_extraction.text import CountVectorizer\n",
    "cv = CountVectorizer()\n",
    "count_matrix = cv.fit_transform(text_list)"
   ]
  },
  {
   "cell_type": "code",
   "execution_count": 67,
   "metadata": {},
   "outputs": [
    {
     "name": "stdout",
     "output_type": "stream",
     "text": [
      "[[1.         0.30588327]\n",
      " [0.30588327 1.        ]]\n"
     ]
    }
   ],
   "source": [
    "from sklearn.metrics.pairwise import cosine_similarity\n",
    "matchPercentage = cosine_similarity(count_matrix)\n",
    "print(matchPercentage)"
   ]
  },
  {
   "cell_type": "code",
   "execution_count": 68,
   "metadata": {},
   "outputs": [
    {
     "name": "stdout",
     "output_type": "stream",
     "text": [
      "Your resume matches about 30.59% of the job description.\n"
     ]
    }
   ],
   "source": [
    "# get the match percentage\n",
    "matchPercentage = cosine_similarity(count_matrix)[0][1] * 100\n",
    "matchPercentage = round(matchPercentage, 2) \n",
    "print(\"Your resume matches about \"+ str(matchPercentage)+ \"% of the job description.\")"
   ]
  },
  {
   "cell_type": "code",
   "execution_count": 69,
   "metadata": {},
   "outputs": [
    {
     "name": "stdout",
     "output_type": "stream",
     "text": [
      "specialization\n",
      "data\n",
      "impact based testing\n",
      "science\n",
      "noida\n",
      "tracking\n",
      "utilized skills\n",
      "rest web\n",
      "prediction\n",
      "algorithm\n",
      "object\n",
      "service\n"
     ]
    }
   ],
   "source": [
    "print(keywords(resume2, ratio =0.5))"
   ]
  },
  {
   "cell_type": "code",
   "execution_count": 70,
   "metadata": {},
   "outputs": [
    {
     "name": "stdout",
     "output_type": "stream",
     "text": [
      "\n",
      "  Jaccard  :   0.7017543859649122\n"
     ]
    }
   ],
   "source": [
    "def jaccard_distance(resume2,jd):\n",
    "    intersection=len(set.intersection(*[set(resume2),set(jd)]))\n",
    "    union=len(set.union(*[set(resume2),set(jd)]))\n",
    "    return intersection/float(union)\n",
    "b=jaccard_distance(resume2,jd) \n",
    "\n",
    "print('\\n  Jaccard  :  ', b)  "
   ]
  },
  {
   "cell_type": "code",
   "execution_count": 71,
   "metadata": {},
   "outputs": [],
   "source": [
    "resume = docx2txt.process('/Users/akanshyameher/Desktop/Applicant9.docx')"
   ]
  },
  {
   "cell_type": "code",
   "execution_count": 72,
   "metadata": {},
   "outputs": [
    {
     "name": "stdout",
     "output_type": "stream",
     "text": [
      "Proficient in skills like Python, R, Data Science, Statistical Analysis, Data Visualization and NLP.\n",
      "Technical Skills: Python (Pandas, NumPy, Scikit-learn), R Programming, SAS, SQL, Machine Learning (CERTIFIED), Data Mining, Statistical Analysis, Distributed Technologies (Hadoop, Spark, Map Reduce), Google Analytics (CERTIFIED), Digital Marketing, VMWare, Linux, BASH, NLP.\n",
      "UNIVERSITY OF CENTRAL FLORIDA   \t\t\t\t\t\t\t\tOrlando-FL, USA Master of Science in Data Analytics\t\t\t\t\t\t\t         \n"
     ]
    }
   ],
   "source": [
    "#Summarizing resume \n",
    "text_resume = str(resume)\n",
    "resume2 = summarize(text_resume, ratio=0.1)\n",
    "print(resume2)"
   ]
  },
  {
   "cell_type": "code",
   "execution_count": 73,
   "metadata": {},
   "outputs": [
    {
     "name": "stdout",
     "output_type": "stream",
     "text": [
      "Enter the job description: o\tCollecting the data from multiple heterogeneous data sources. o\tCheck the actual nature of the data by conducting preliminary data analysis. o\tConduct the thorough analysis of data to check for meaningful data. o\tPerform data mining with using different querying techniques of SQL. o\tCheck for different data configurations and patterns. o\tHelp the senior management for decision making by representing the data with using different representational techniques like Graphs charts. o\tModel the data with using different modeling techniques. o\tMake the projections of the data according to analyzing the trends of data. o\tCreate different kind of reports with using different Business Intelligence tools like OBIEE or Tableau. o\tPresent your findings with good presentation through meetings, seminars and presentations. o\tPreparing the report which will give information about all the data which will helps the senior management. o\tDiscuss with senior management about the business strategy with using the data analyzed by you.\n"
     ]
    }
   ],
   "source": [
    "#Prompt for the Job description.\n",
    "jd = input(\"Enter the job description: \")  "
   ]
  },
  {
   "cell_type": "code",
   "execution_count": 74,
   "metadata": {},
   "outputs": [],
   "source": [
    "#Count Vectorizer \n",
    "text_list = [resume2, jd]\n",
    "from sklearn.feature_extraction.text import CountVectorizer\n",
    "cv = CountVectorizer()\n",
    "count_matrix = cv.fit_transform(text_list)"
   ]
  },
  {
   "cell_type": "code",
   "execution_count": 75,
   "metadata": {},
   "outputs": [
    {
     "name": "stdout",
     "output_type": "stream",
     "text": [
      "[[1.         0.30812955]\n",
      " [0.30812955 1.        ]]\n"
     ]
    }
   ],
   "source": [
    "from sklearn.metrics.pairwise import cosine_similarity\n",
    "matchPercentage = cosine_similarity(count_matrix)\n",
    "print(matchPercentage)"
   ]
  },
  {
   "cell_type": "code",
   "execution_count": 76,
   "metadata": {},
   "outputs": [
    {
     "name": "stdout",
     "output_type": "stream",
     "text": [
      "Your resume matches about 30.81% of the job description.\n"
     ]
    }
   ],
   "source": [
    "# get the match percentage\n",
    "matchPercentage = cosine_similarity(count_matrix)[0][1] * 100\n",
    "matchPercentage = round(matchPercentage, 2) \n",
    "print(\"Your resume matches about \"+ str(matchPercentage)+ \"% of the job description.\")"
   ]
  },
  {
   "cell_type": "code",
   "execution_count": 77,
   "metadata": {},
   "outputs": [
    {
     "name": "stdout",
     "output_type": "stream",
     "text": [
      "data\n",
      "certified\n",
      "florida\n",
      "nlp\n",
      "skills\n",
      "python\n",
      "learning\n",
      "analysis\n",
      "analytics\n",
      "statistical\n",
      "sas\n",
      "sql\n",
      "master\n",
      "usa\n",
      "linux\n",
      "bash\n",
      "spark\n",
      "vmware\n",
      "hadoop\n"
     ]
    }
   ],
   "source": [
    "print(keywords(resume2, ratio =0.5))"
   ]
  },
  {
   "cell_type": "code",
   "execution_count": 78,
   "metadata": {},
   "outputs": [
    {
     "name": "stdout",
     "output_type": "stream",
     "text": [
      "\n",
      "  Jaccard  :   0.6842105263157895\n"
     ]
    }
   ],
   "source": [
    "def jaccard_distance(resume2,jd):\n",
    "    intersection=len(set.intersection(*[set(resume2),set(jd)]))\n",
    "    union=len(set.union(*[set(resume2),set(jd)]))\n",
    "    return intersection/float(union)\n",
    "b=jaccard_distance(resume2,jd) \n",
    "\n",
    "print('\\n  Jaccard  :  ', b)  "
   ]
  },
  {
   "cell_type": "code",
   "execution_count": 79,
   "metadata": {},
   "outputs": [],
   "source": [
    "resume = docx2txt.process('/Users/akanshyameher/Desktop/Applicant10.docx')"
   ]
  },
  {
   "cell_type": "code",
   "execution_count": 80,
   "metadata": {},
   "outputs": [
    {
     "name": "stdout",
     "output_type": "stream",
     "text": [
      "Coursework: Theory of Computation, Database Management Systems, Data Mining.\n",
      "Worked on configurations in Salesforce Classic version, learnt Apex along with SOQL(Structured Object Query Language).\n",
      "Worked as a Salesforce Developer(Classic Version along with nCino) focusing on Apex - Triggers, Batch classes.\n",
      "My role in this project was to develop UI on Microsoft dotnet for servers and managing data using SQL.\n"
     ]
    }
   ],
   "source": [
    "#Summarizing resume \n",
    "text_resume = str(resume)\n",
    "resume2 = summarize(text_resume, ratio=0.1)\n",
    "print(resume2)"
   ]
  },
  {
   "cell_type": "code",
   "execution_count": 81,
   "metadata": {},
   "outputs": [
    {
     "name": "stdout",
     "output_type": "stream",
     "text": [
      "Enter the job description: o\tCollecting the data from multiple heterogeneous data sources. o\tCheck the actual nature of the data by conducting preliminary data analysis. o\tConduct the thorough analysis of data to check for meaningful data. o\tPerform data mining with using different querying techniques of SQL. o\tCheck for different data configurations and patterns. o\tHelp the senior management for decision making by representing the data with using different representational techniques like Graphs charts. o\tModel the data with using different modeling techniques. o\tMake the projections of the data according to analyzing the trends of data. o\tCreate different kind of reports with using different Business Intelligence tools like OBIEE or Tableau. o\tPresent your findings with good presentation through meetings, seminars and presentations. o\tPreparing the report which will give information about all the data which will helps the senior management. o\tDiscuss with senior management about the business strategy with using the data analyzed by you.\n"
     ]
    }
   ],
   "source": [
    "#Prompt for the Job description.\n",
    "jd = input(\"Enter the job description: \")  "
   ]
  },
  {
   "cell_type": "code",
   "execution_count": 82,
   "metadata": {},
   "outputs": [],
   "source": [
    "#Count Vectorizer \n",
    "text_list = [resume2, jd]\n",
    "from sklearn.feature_extraction.text import CountVectorizer\n",
    "cv = CountVectorizer()\n",
    "count_matrix = cv.fit_transform(text_list)"
   ]
  },
  {
   "cell_type": "code",
   "execution_count": 83,
   "metadata": {},
   "outputs": [
    {
     "name": "stdout",
     "output_type": "stream",
     "text": [
      "[[1.         0.27149691]\n",
      " [0.27149691 1.        ]]\n"
     ]
    }
   ],
   "source": [
    "from sklearn.metrics.pairwise import cosine_similarity\n",
    "matchPercentage = cosine_similarity(count_matrix)\n",
    "print(matchPercentage)"
   ]
  },
  {
   "cell_type": "code",
   "execution_count": 84,
   "metadata": {},
   "outputs": [
    {
     "name": "stdout",
     "output_type": "stream",
     "text": [
      "Your resume matches about 27.15% of the job description.\n"
     ]
    }
   ],
   "source": [
    "# get the match percentage\n",
    "matchPercentage = cosine_similarity(count_matrix)[0][1] * 100\n",
    "matchPercentage = round(matchPercentage, 2) \n",
    "print(\"Your resume matches about \"+ str(matchPercentage)+ \"% of the job description.\")"
   ]
  },
  {
   "cell_type": "code",
   "execution_count": 85,
   "metadata": {},
   "outputs": [
    {
     "name": "stdout",
     "output_type": "stream",
     "text": [
      "management\n",
      "managing\n",
      "classic\n",
      "data\n",
      "batch\n",
      "object\n",
      "triggers\n",
      "query\n",
      "database\n",
      "apex\n",
      "language\n",
      "microsoft dotnet\n"
     ]
    }
   ],
   "source": [
    "print(keywords(resume2, ratio =0.5))"
   ]
  },
  {
   "cell_type": "code",
   "execution_count": 86,
   "metadata": {},
   "outputs": [
    {
     "name": "stdout",
     "output_type": "stream",
     "text": [
      "\n",
      "  Jaccard  :   0.6792452830188679\n"
     ]
    }
   ],
   "source": [
    "def jaccard_distance(resume2,jd):\n",
    "    intersection=len(set.intersection(*[set(resume2),set(jd)]))\n",
    "    union=len(set.union(*[set(resume2),set(jd)]))\n",
    "    return intersection/float(union)\n",
    "b=jaccard_distance(resume2,jd) \n",
    "\n",
    "print('\\n  Jaccard  :  ', b)  "
   ]
  },
  {
   "cell_type": "code",
   "execution_count": 87,
   "metadata": {},
   "outputs": [
    {
     "data": {
      "text/plain": [
       "{'Applicant_Number': [1, 2, 3, 4, 5, 6, 7, 8, 9, 10],\n",
       " 'Cosine': [48.15,\n",
       "  45.28,\n",
       "  35.29,\n",
       "  54.47,\n",
       "  53.35,\n",
       "  7.91,\n",
       "  16.76,\n",
       "  31.67,\n",
       "  31.1,\n",
       "  27.46],\n",
       " 'Jaccard': [69.64,\n",
       "  58.06,\n",
       "  63.93,\n",
       "  63.9,\n",
       "  69.23,\n",
       "  60.71,\n",
       "  61.53,\n",
       "  70.17,\n",
       "  68.42,\n",
       "  67.92]}"
      ]
     },
     "execution_count": 87,
     "metadata": {},
     "output_type": "execute_result"
    }
   ],
   "source": [
    "cosine = [48.15,45.28,35.29,54.47,53.35,7.91,16.76,31.67,31.1,27.46]\n",
    "jaccard = [69.64,58.06,63.93,63.90,69.23,60.71,61.53,70.17,68.42,67.92]\n",
    "\n",
    "df= {'Applicant_Number':[1,2,3,4,5,6,7,8,9,10], 'Cosine': [48.15,45.28,35.29,54.47,53.35,7.91,16.76,31.67,31.1,27.46], 'Jaccard': [69.64,58.06,63.93,63.90,69.23,60.71,61.53,70.17,68.42,67.92]}\n",
    "df"
   ]
  },
  {
   "cell_type": "code",
   "execution_count": 88,
   "metadata": {},
   "outputs": [
    {
     "data": {
      "text/html": [
       "<div>\n",
       "<style scoped>\n",
       "    .dataframe tbody tr th:only-of-type {\n",
       "        vertical-align: middle;\n",
       "    }\n",
       "\n",
       "    .dataframe tbody tr th {\n",
       "        vertical-align: top;\n",
       "    }\n",
       "\n",
       "    .dataframe thead th {\n",
       "        text-align: right;\n",
       "    }\n",
       "</style>\n",
       "<table border=\"1\" class=\"dataframe\">\n",
       "  <thead>\n",
       "    <tr style=\"text-align: right;\">\n",
       "      <th></th>\n",
       "      <th>Applicant_Number</th>\n",
       "      <th>Cosine</th>\n",
       "      <th>Jaccard</th>\n",
       "    </tr>\n",
       "  </thead>\n",
       "  <tbody>\n",
       "    <tr>\n",
       "      <th>0</th>\n",
       "      <td>1</td>\n",
       "      <td>48.15</td>\n",
       "      <td>69.64</td>\n",
       "    </tr>\n",
       "    <tr>\n",
       "      <th>1</th>\n",
       "      <td>2</td>\n",
       "      <td>45.28</td>\n",
       "      <td>58.06</td>\n",
       "    </tr>\n",
       "    <tr>\n",
       "      <th>2</th>\n",
       "      <td>3</td>\n",
       "      <td>35.29</td>\n",
       "      <td>63.93</td>\n",
       "    </tr>\n",
       "    <tr>\n",
       "      <th>3</th>\n",
       "      <td>4</td>\n",
       "      <td>54.47</td>\n",
       "      <td>63.90</td>\n",
       "    </tr>\n",
       "    <tr>\n",
       "      <th>4</th>\n",
       "      <td>5</td>\n",
       "      <td>53.35</td>\n",
       "      <td>69.23</td>\n",
       "    </tr>\n",
       "    <tr>\n",
       "      <th>5</th>\n",
       "      <td>6</td>\n",
       "      <td>7.91</td>\n",
       "      <td>60.71</td>\n",
       "    </tr>\n",
       "    <tr>\n",
       "      <th>6</th>\n",
       "      <td>7</td>\n",
       "      <td>16.76</td>\n",
       "      <td>61.53</td>\n",
       "    </tr>\n",
       "    <tr>\n",
       "      <th>7</th>\n",
       "      <td>8</td>\n",
       "      <td>31.67</td>\n",
       "      <td>70.17</td>\n",
       "    </tr>\n",
       "    <tr>\n",
       "      <th>8</th>\n",
       "      <td>9</td>\n",
       "      <td>31.10</td>\n",
       "      <td>68.42</td>\n",
       "    </tr>\n",
       "    <tr>\n",
       "      <th>9</th>\n",
       "      <td>10</td>\n",
       "      <td>27.46</td>\n",
       "      <td>67.92</td>\n",
       "    </tr>\n",
       "  </tbody>\n",
       "</table>\n",
       "</div>"
      ],
      "text/plain": [
       "   Applicant_Number  Cosine  Jaccard\n",
       "0                 1   48.15    69.64\n",
       "1                 2   45.28    58.06\n",
       "2                 3   35.29    63.93\n",
       "3                 4   54.47    63.90\n",
       "4                 5   53.35    69.23\n",
       "5                 6    7.91    60.71\n",
       "6                 7   16.76    61.53\n",
       "7                 8   31.67    70.17\n",
       "8                 9   31.10    68.42\n",
       "9                10   27.46    67.92"
      ]
     },
     "execution_count": 88,
     "metadata": {},
     "output_type": "execute_result"
    }
   ],
   "source": [
    "import pandas as pd\n",
    "pd.DataFrame(df)"
   ]
  }
 ],
 "metadata": {
  "kernelspec": {
   "display_name": "Python 3",
   "language": "python",
   "name": "python3"
  },
  "language_info": {
   "codemirror_mode": {
    "name": "ipython",
    "version": 3
   },
   "file_extension": ".py",
   "mimetype": "text/x-python",
   "name": "python",
   "nbconvert_exporter": "python",
   "pygments_lexer": "ipython3",
   "version": "3.7.9"
  }
 },
 "nbformat": 4,
 "nbformat_minor": 4
}
